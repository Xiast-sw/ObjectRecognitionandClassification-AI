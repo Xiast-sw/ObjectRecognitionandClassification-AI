{
 "cells": [
  {
   "cell_type": "markdown",
   "id": "da923456",
   "metadata": {},
   "source": [
    "<IMG src=\"cifar10_images.jpg\" width=\"375\" height=\"60\">"
   ]
  },
  {
   "cell_type": "code",
   "execution_count": 1,
   "id": "6c296d49-6ac2-401e-acae-4eff69f4fee4",
   "metadata": {},
   "outputs": [],
   "source": [
    "import tensorflow as tf\n",
    "from tensorflow.keras import datasets, layers, models\n",
    "import pandas as pd\n",
    "import numpy as np\n",
    "import matplotlib.pyplot as plt"
   ]
  },
  {
   "cell_type": "code",
   "execution_count": 2,
   "id": "f5d8693b-df84-453a-834d-d949fc363d10",
   "metadata": {},
   "outputs": [],
   "source": [
    "(X_train, y_train), (X_test,y_test) = datasets.cifar10.load_data()"
   ]
  },
  {
   "cell_type": "code",
   "execution_count": 3,
   "id": "da9cb281",
   "metadata": {},
   "outputs": [
    {
     "data": {
      "text/plain": [
       "(50000, 32, 32, 3)"
      ]
     },
     "execution_count": 3,
     "metadata": {},
     "output_type": "execute_result"
    }
   ],
   "source": [
    "X_train.shape"
   ]
  },
  {
   "cell_type": "code",
   "execution_count": 4,
   "id": "46f664af",
   "metadata": {},
   "outputs": [
    {
     "data": {
      "text/plain": [
       "(10000, 32, 32, 3)"
      ]
     },
     "execution_count": 4,
     "metadata": {},
     "output_type": "execute_result"
    }
   ],
   "source": [
    "X_test.shape"
   ]
  },
  {
   "cell_type": "code",
   "execution_count": 5,
   "id": "9ec75db2",
   "metadata": {},
   "outputs": [
    {
     "data": {
      "text/plain": [
       "array([[6],\n",
       "       [9],\n",
       "       [9],\n",
       "       [4],\n",
       "       [1]], dtype=uint8)"
      ]
     },
     "execution_count": 5,
     "metadata": {},
     "output_type": "execute_result"
    }
   ],
   "source": [
    "y_train[:5]"
   ]
  },
  {
   "cell_type": "code",
   "execution_count": 6,
   "id": "7c61d12b",
   "metadata": {},
   "outputs": [],
   "source": [
    "# bir boyutlu haline getirelim\n",
    "y_test = y_test.reshape(-1,)"
   ]
  },
  {
   "cell_type": "code",
   "execution_count": 7,
   "id": "df9a9e6c",
   "metadata": {},
   "outputs": [
    {
     "data": {
      "text/plain": [
       "array([3, 8, 8, ..., 5, 1, 7], dtype=uint8)"
      ]
     },
     "execution_count": 7,
     "metadata": {},
     "output_type": "execute_result"
    }
   ],
   "source": [
    "y_test "
   ]
  },
  {
   "cell_type": "code",
   "execution_count": 8,
   "id": "44dfdd4f",
   "metadata": {},
   "outputs": [],
   "source": [
    "# resim sınıfları için array oluşturuyorum\n",
    "resim_siniflari = [\"airplane\",\"automobile\",\"bird\",\"cat\",\"deer\",\"dog\",\"frog\",\"horse\",\"ship\",\"truck\"]"
   ]
  },
  {
   "cell_type": "code",
   "execution_count": 9,
   "id": "cd46c049",
   "metadata": {},
   "outputs": [],
   "source": [
    "def plot_sample(X, y, index):\n",
    "    plt.figure(figsize = (15,2))\n",
    "    plt.imshow(X[index])        \n",
    "    plt.xlabel(resim_siniflari[y[index]])\n",
    "    plt.show()"
   ]
  },
  {
   "cell_type": "code",
   "execution_count": 10,
   "id": "41329992",
   "metadata": {},
   "outputs": [
    {
     "data": {
      "image/png": "[encoded data removed]",
      "text/plain": [
       "<Figure size 1500x200 with 1 Axes>"
      ]
     },
     "metadata": {},
     "output_type": "display_data"
    }
   ],
   "source": [
    "plot_sample(X_test, y_test, 5)"
   ]
  },
  {
   "cell_type": "code",
   "execution_count": 11,
   "id": "aad6ef91",
   "metadata": {},
   "outputs": [
    {
     "data": {
      "image/png": "[encoded data removed]",
      "text/plain": [
       "<Figure size 1500x200 with 1 Axes>"
      ]
     },
     "metadata": {},
     "output_type": "display_data"
    }
   ],
   "source": [
    "plot_sample(X_test, y_test, 11)"
   ]
  },
  {
   "cell_type": "code",
   "execution_count": 12,
   "id": "6bb66b99",
   "metadata": {},
   "outputs": [],
   "source": [
    "#normalizasyon yapalım \n",
    "# RGB olarak 3 kanal ve her pixel 0-255 aralığında olduğundan 255 ya bölmek yeterli\n",
    "X_train = X_train / 255\n",
    "X_test = X_test / 255"
   ]
  },
  {
   "cell_type": "code",
   "execution_count": 14,
   "id": "be4318a7",
   "metadata": {},
   "outputs": [],
   "source": [
    "# Derin öğrenme modeli oluştur\n",
    "deep_learning_model = models.Sequential([\n",
    "    # ilk katman 32x32 boyutunda gri görüntüleri alır, 32 filtre ve relu aktivasyon fonksiyonu kullanılır\n",
    "    layers.Conv2D(filters=32, kernel_size=(3, 3), activation='relu', input_shape=(32, 32, 3)),\n",
    "    # ilk havuzlama katmanı: Özelliklerin boyutunu küçültür\n",
    "    layers.MaxPooling2D((2, 2)),\n",
    "    \n",
    "    # ikinci konvolüsyon katmanı\n",
    "    layers.Conv2D(filters=64, kernel_size=(3, 3), activation='relu'),\n",
    "    #ikinci havuzlama katmanı\n",
    "    layers.MaxPooling2D((2, 2)),\n",
    "    \n",
    "    # Flatten katmanı: Çok boyutlu çıktıyı 1 boyutlu hale getirir\n",
    "    layers.Flatten(),\n",
    "    # Tam bağlantılı katman: Sinir ağının sonuna eklenir\n",
    "    layers.Dense(64, activation='relu'),\n",
    "    # Çıkış katmanı: 10 sınıf için softmax aktivasyonu kullanır\n",
    "    layers.Dense(10, activation='softmax')\n",
    "])"
   ]
  },
  {
   "cell_type": "code",
   "execution_count": 17,
   "id": "4f4429ef",
   "metadata": {},
   "outputs": [],
   "source": [
    "# Modeli derlemek için kullanılan ayarları tanımlar.\n",
    "deep_learning_model.compile(\n",
    "    optimizer='adam',  # 'adam' optimizasyon algoritması, öğrenme hızını otomatik olarak ayarlar.\n",
    "    loss='sparse_categorical_crossentropy',  # Çok sınıflı sınıflandırma için uygun kayıp fonksiyonu.\n",
    "    metrics=['accuracy']  # Modelin doğruluğunu izlemek için kullanılacak metrik.\n",
    ")"
   ]
  },
  {
   "cell_type": "code",
   "execution_count": 18,
   "id": "f645252d",
   "metadata": {},
   "outputs": [
    {
     "name": "stdout",
     "output_type": "stream",
     "text": [
      "Epoch 1/5\n",
      "1563/1563 [==============================] - 31s 20ms/step - loss: 1.4588 - accuracy: 0.4769\n",
      "Epoch 2/5\n",
      "1563/1563 [==============================] - 35s 23ms/step - loss: 1.1026 - accuracy: 0.6156\n",
      "Epoch 3/5\n",
      "1563/1563 [==============================] - 40s 25ms/step - loss: 0.9726 - accuracy: 0.6615\n",
      "Epoch 4/5\n",
      "1563/1563 [==============================] - 39s 25ms/step - loss: 0.8867 - accuracy: 0.6932\n",
      "Epoch 5/5\n",
      "1563/1563 [==============================] - 41s 26ms/step - loss: 0.8194 - accuracy: 0.7152\n"
     ]
    },
    {
     "data": {
      "text/plain": [
       "<tensorflow.python.keras.callbacks.History at 0x1e6a499c7f0>"
      ]
     },
     "execution_count": 18,
     "metadata": {},
     "output_type": "execute_result"
    }
   ],
   "source": [
    "# Modelin eğitim sürecini başlatır. \n",
    "# X_train: Giriş verileri, y_train: Hedef etiketler.\n",
    "# epochs=5: Modelin verilerle 5 kez eğitim almasını belirtir.\n",
    "deep_learning_model.fit(X_train, y_train, epochs=5)"
   ]
  },
  {
   "cell_type": "code",
   "execution_count": 19,
   "id": "afc1f028",
   "metadata": {},
   "outputs": [
    {
     "name": "stdout",
     "output_type": "stream",
     "text": [
      "313/313 [==============================] - 2s 7ms/step - loss: 0.9659 - accuracy: 0.6653\n"
     ]
    },
    {
     "data": {
      "text/plain": [
       "[0.9658674597740173, 0.6653000116348267]"
      ]
     },
     "execution_count": 19,
     "metadata": {},
     "output_type": "execute_result"
    }
   ],
   "source": [
    "# Test verileri üzerinde modelin performansını değerlendirir.\n",
    "# X_test: Test verileri, y_test: Test verilerinin gerçek etiketleri.\n",
    "# Fonksiyon, kayıp ve doğruluk gibi performans ölçütlerini döner.\n",
    "deep_learning_model.evaluate(X_test,y_test)"
   ]
  },
  {
   "cell_type": "code",
   "execution_count": 20,
   "id": "af51783b",
   "metadata": {},
   "outputs": [
    {
     "data": {
      "text/plain": [
       "array([[1.2112646e-03, 3.6368656e-04, 5.9693898e-03, 5.3433567e-01,\n",
       "        4.1801645e-03, 2.8263208e-02, 3.5652870e-01, 5.9015125e-05,\n",
       "        6.8500936e-02, 5.8791635e-04],\n",
       "       [2.8348705e-01, 2.2429395e-01, 1.3795838e-04, 1.3903668e-04,\n",
       "        1.4924996e-06, 3.2568767e-06, 8.0616883e-07, 1.9710278e-06,\n",
       "        4.9066001e-01, 1.2744446e-03],\n",
       "       [1.3499355e-01, 3.6493632e-01, 1.2960560e-03, 5.2175643e-03,\n",
       "        7.5295934e-04, 6.6510309e-04, 6.8160321e-04, 3.1466121e-04,\n",
       "        4.6692404e-01, 2.4218166e-02]], dtype=float32)"
      ]
     },
     "execution_count": 20,
     "metadata": {},
     "output_type": "execute_result"
    }
   ],
   "source": [
    "# X_test veri seti ile deep_learning_model modelinden tahmin edilen sonuçları y_pred değişkenine atıyoruz.\n",
    "# Ardından, y_pred değişkeninin ilk 3 tahminini görüntülüyoruz.\n",
    "y_pred = deep_learning_model.predict(X_test)\n",
    "y_pred[:3]"
   ]
  },
  {
   "cell_type": "code",
   "execution_count": 21,
   "id": "49259af0",
   "metadata": {},
   "outputs": [
    {
     "data": {
      "text/plain": [
       "[3, 8, 8]"
      ]
     },
     "execution_count": 21,
     "metadata": {},
     "output_type": "execute_result"
    }
   ],
   "source": [
    "# y_pred içindeki her bir tahmin sonucunun en yüksek olasılığa sahip sınıfını belirliyoruz.\n",
    "# np.argmax() fonksiyonu, en yüksek değere sahip indeks numarasını döndürüyor.\n",
    "# Bu işlem sonucunda elde edilen sınıf tahminlerini y_predictions_siniflari listesine atıyoruz\n",
    "# ve ilk 3 sınıf tahminini görüntülüyoruz.\n",
    "y_predictions_siniflari = [np.argmax(element) for element in y_pred]\n",
    "y_predictions_siniflari[:3]"
   ]
  },
  {
   "cell_type": "code",
   "execution_count": 22,
   "id": "f27e44be",
   "metadata": {},
   "outputs": [
    {
     "data": {
      "text/plain": [
       "array([3, 8, 8, 0, 6], dtype=uint8)"
      ]
     },
     "execution_count": 22,
     "metadata": {},
     "output_type": "execute_result"
    }
   ],
   "source": [
    "# y_test veri setinin ilk 5 gerçek sınıf etiketini görüntülüyoruz.\n",
    "y_test[:5]"
   ]
  },
  {
   "cell_type": "code",
   "execution_count": 23,
   "id": "00c04c26",
   "metadata": {},
   "outputs": [],
   "source": [
    "# X_test ve y_test veri setindeki örneklerin (0, 1, 2) indeksli görsellerini çiziyoruz.\n",
    "# Her bir görselin tahmin edilen sınıfını resim_siniflari listesi kullanarak görüntülüyoruz."
   ]
  },
  {
   "cell_type": "code",
   "execution_count": 24,
   "id": "b97443d8",
   "metadata": {},
   "outputs": [
    {
     "data": {
      "image/png": "[encoded data removed]",
      "text/plain": [
       "<Figure size 1500x200 with 1 Axes>"
      ]
     },
     "metadata": {},
     "output_type": "display_data"
    }
   ],
   "source": [
    "# 0. indeksli örneği çiziyoruz ve modelin tahmin ettiği sınıfı gösteriyoruz.\n",
    "plot_sample(X_test, y_test, 0)"
   ]
  },
  {
   "cell_type": "code",
   "execution_count": 25,
   "id": "3f8d686c",
   "metadata": {},
   "outputs": [
    {
     "data": {
      "text/plain": [
       "'cat'"
      ]
     },
     "execution_count": 25,
     "metadata": {},
     "output_type": "execute_result"
    }
   ],
   "source": [
    "resim_siniflari[y_predictions_siniflari[0]]"
   ]
  },
  {
   "cell_type": "code",
   "execution_count": 37,
   "id": "e9593119",
   "metadata": {},
   "outputs": [
    {
     "data": {
      "image/png": "[encoded data removed]",
      "text/plain": [
       "<Figure size 1500x200 with 1 Axes>"
      ]
     },
     "metadata": {},
     "output_type": "display_data"
    }
   ],
   "source": [
    "# 3. indeksli örneği çiziyoruz ve modelin tahmin ettiği sınıfı gösteriyoruz.\n",
    "plot_sample(X_test, y_test, 3)"
   ]
  },
  {
   "cell_type": "code",
   "execution_count": 36,
   "id": "63e264fb",
   "metadata": {},
   "outputs": [
    {
     "data": {
      "text/plain": [
       "'airplane'"
      ]
     },
     "execution_count": 36,
     "metadata": {},
     "output_type": "execute_result"
    }
   ],
   "source": [
    "resim_siniflari[y_predictions_siniflari[3]]"
   ]
  },
  {
   "cell_type": "code",
   "execution_count": 42,
   "id": "27f54d91",
   "metadata": {},
   "outputs": [
    {
     "data": {
      "image/png": "[encoded data removed]",
      "text/plain": [
       "<Figure size 1500x200 with 1 Axes>"
      ]
     },
     "metadata": {},
     "output_type": "display_data"
    }
   ],
   "source": [
    "# 45. indeksli örneği çiziyoruz ve modelin tahmin ettiği sınıfı gösteriyoruz.\n",
    "plot_sample(X_test, y_test, 45)"
   ]
  },
  {
   "cell_type": "code",
   "execution_count": 41,
   "id": "27dfd33d",
   "metadata": {},
   "outputs": [
    {
     "data": {
      "text/plain": [
       "'truck'"
      ]
     },
     "execution_count": 41,
     "metadata": {},
     "output_type": "execute_result"
    }
   ],
   "source": [
    "resim_siniflari[y_predictions_siniflari[45]]"
   ]
  },
  {
   "cell_type": "code",
   "execution_count": 32,
   "id": "cb75c1a2",
   "metadata": {},
   "outputs": [
    {
     "data": {
      "image/png": "[encoded data removed]",
      "text/plain": [
       "<Figure size 1500x200 with 1 Axes>"
      ]
     },
     "metadata": {},
     "output_type": "display_data"
    }
   ],
   "source": [
    "# 511. indeksli örneği çiziyoruz ve modelin tahmin ettiği sınıfı gösteriyoruz.\n",
    "plot_sample(X_test, y_test, 511)"
   ]
  },
  {
   "cell_type": "code",
   "execution_count": 33,
   "id": "8d76cc0a",
   "metadata": {},
   "outputs": [
    {
     "data": {
      "text/plain": [
       "'frog'"
      ]
     },
     "execution_count": 33,
     "metadata": {},
     "output_type": "execute_result"
    }
   ],
   "source": [
    "resim_siniflari[y_predictions_siniflari[511]]"
   ]
  },
  {
   "cell_type": "code",
   "execution_count": 55,
   "id": "06106711",
   "metadata": {},
   "outputs": [
    {
     "data": {
      "image/png": "[encoded data removed]",
      "text/plain": [
       "<Figure size 1500x200 with 1 Axes>"
      ]
     },
     "metadata": {},
     "output_type": "display_data"
    }
   ],
   "source": [
    "# 13. indeksli örneği çiziyoruz ve modelin tahmin ettiği sınıfı gösteriyoruz.\n",
    "plot_sample(X_test, y_test, 13)"
   ]
  },
  {
   "cell_type": "code",
   "execution_count": 56,
   "id": "75c31e67",
   "metadata": {},
   "outputs": [
    {
     "data": {
      "text/plain": [
       "'horse'"
      ]
     },
     "execution_count": 56,
     "metadata": {},
     "output_type": "execute_result"
    }
   ],
   "source": [
    "resim_siniflari[y_predictions_siniflari[13]]"
   ]
  },
  {
   "cell_type": "code",
   "execution_count": null,
   "id": "f8afda81",
   "metadata": {},
   "outputs": [],
   "source": []
  }
 ],
 "metadata": {
  "kernelspec": {
   "display_name": "Python 3 (ipykernel)",
   "language": "python",
   "name": "python3"
  },
  "language_info": {
   "codemirror_mode": {
    "name": "ipython",
    "version": 3
   },
   "file_extension": ".py",
   "mimetype": "text/x-python",
   "name": "python",
   "nbconvert_exporter": "python",
   "pygments_lexer": "ipython3",
   "version": "3.7.1"
  }
 },
 "nbformat": 4,
 "nbformat_minor": 5
}
